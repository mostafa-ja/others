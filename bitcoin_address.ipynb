{
  "cells": [
    {
      "cell_type": "markdown",
      "metadata": {
        "id": "view-in-github",
        "colab_type": "text"
      },
      "source": [
        "<a href=\"https://colab.research.google.com/github/mostafa-ja/others/blob/main/bitcoin_address.ipynb\" target=\"_parent\"><img src=\"https://colab.research.google.com/assets/colab-badge.svg\" alt=\"Open In Colab\"/></a>"
      ]
    },
    {
      "cell_type": "code",
      "source": [
        "!pip install base58\n"
      ],
      "metadata": {
        "colab": {
          "base_uri": "https://localhost:8080/"
        },
        "id": "QnSoPbP0DioV",
        "outputId": "67b9fb3d-f1f4-4008-c47b-7fa7da1472fe"
      },
      "execution_count": 12,
      "outputs": [
        {
          "output_type": "stream",
          "name": "stdout",
          "text": [
            "Looking in indexes: https://pypi.org/simple, https://us-python.pkg.dev/colab-wheels/public/simple/\n",
            "Requirement already satisfied: base58 in /usr/local/lib/python3.10/dist-packages (2.1.1)\n"
          ]
        }
      ]
    },
    {
      "cell_type": "code",
      "source": [
        "!pip install ecdsa\n"
      ],
      "metadata": {
        "colab": {
          "base_uri": "https://localhost:8080/"
        },
        "id": "-p1EW9DNDxi7",
        "outputId": "746cc570-d6bd-448b-a05e-223ba5ef84b3"
      },
      "execution_count": 8,
      "outputs": [
        {
          "output_type": "stream",
          "name": "stdout",
          "text": [
            "Looking in indexes: https://pypi.org/simple, https://us-python.pkg.dev/colab-wheels/public/simple/\n",
            "Collecting ecdsa\n",
            "  Downloading ecdsa-0.18.0-py2.py3-none-any.whl (142 kB)\n",
            "\u001b[2K     \u001b[90m━━━━━━━━━━━━━━━━━━━━━━━━━━━━━━━━━━━━━━\u001b[0m \u001b[32m142.9/142.9 kB\u001b[0m \u001b[31m10.7 MB/s\u001b[0m eta \u001b[36m0:00:00\u001b[0m\n",
            "\u001b[?25hRequirement already satisfied: six>=1.9.0 in /usr/local/lib/python3.10/dist-packages (from ecdsa) (1.16.0)\n",
            "Installing collected packages: ecdsa\n",
            "Successfully installed ecdsa-0.18.0\n"
          ]
        }
      ]
    },
    {
      "cell_type": "code",
      "source": [
        "import hashlib,base58,binascii,ecdsa, codecs\n",
        "\n",
        "# Step1: Generate ECDSA Private Key\")\n",
        "ecdsaPrivateKey = ecdsa.SigningKey.generate(curve=ecdsa.SECP256k1)\n",
        "print(\"ECDSA Private Key: \", ecdsaPrivateKey.to_string().hex())\n",
        "print(\"------------------------------------------------------\")\n",
        "# Step2: Generate ECDSA Public Key from value at Step#1\n",
        "ecdsaPublicKey = '04' +  ecdsaPrivateKey.get_verifying_key().to_string().hex()\n",
        "print(\"ECDSA Public Key: \", ecdsaPublicKey)\n",
        "print(\"------------------------------------------------------\")\n",
        "# Step3: SHA256(value at Step#2)\n",
        "hash256FromECDSAPublicKey = hashlib.sha256(binascii.unhexlify(ecdsaPublicKey)).hexdigest()\n",
        "print(\"SHA256(ECDSA Public Key): \", hash256FromECDSAPublicKey)\n",
        "print(\"------------------------------------------------------\")\n",
        "# Step4: RIDEMP160(value at Step#3)\n",
        "ridemp160FromHash256 = hashlib.new('ripemd160', binascii.unhexlify(hash256FromECDSAPublicKey))\n",
        "print(\"RIDEMP160(SHA256(ECDSA Public Key)): \", ridemp160FromHash256.hexdigest())\n",
        "print(\"------------------------------------------------------\")\n",
        "# Step5: Prepend 00 as network byte to value at Step#4\n",
        "prependNetworkByte = '00' + ridemp160FromHash256.hexdigest()\n",
        "print(\"Prepend Network Byte to RIDEMP160(SHA256(ECDSA Public Key)): \", prependNetworkByte)\n",
        "print(\"------------------------------------------------------\")\n",
        "# Step6: Apply SHA256 to value at Step#5 at 2 times to generate Checksum\n",
        "hash = prependNetworkByte\n",
        "for x in range(1,3):\n",
        "    hash = hashlib.sha256(binascii.unhexlify(hash)).hexdigest()\n",
        "    print(\"\\t|___>SHA256 #\", x, \" : \", hash)\n",
        "print(\"------------------------------------------------------\")\n",
        "# Step7: Get first 4 bytes of value at Step#6 as Checksum\n",
        "cheksum = hash[:8]\n",
        "print(\"Checksum(first 4 bytes): \", cheksum)\n",
        "print(\"------------------------------------------------------\")\n",
        "# Step8: Append Checksum to value at Step#5\n",
        "appendChecksum = prependNetworkByte + cheksum\n",
        "print(\"Append Checksum to RIDEMP160(SHA256(ECDSA Public Key)): \", appendChecksum)\n",
        "print(\"------------------------------------------------------\")\n",
        "# Step9: Generate Bitcoin Address with apply Base58 Encoding to value at Step#8\n",
        "bitcoinAddress = base58.b58encode(binascii.unhexlify(appendChecksum))\n",
        "print(\"Bitcoin Address: \", bitcoinAddress.decode('utf8'))"
      ],
      "metadata": {
        "colab": {
          "base_uri": "https://localhost:8080/"
        },
        "id": "0NQLihY8C8wR",
        "outputId": "b5e73fec-5f48-4636-e073-0c3ad7919acd"
      },
      "execution_count": 36,
      "outputs": [
        {
          "output_type": "stream",
          "name": "stdout",
          "text": [
            "ECDSA Private Key:  4c78391d7f5506ac76336a58ef183c738ab6a0f8ec2e288d9235cf059cb071fe\n",
            "------------------------------------------------------\n",
            "ECDSA Public Key:  041204167298b2fa545485c5c5524d806b1d1e15c2a8e938cce93ce74445b699c85dda95da605e24cfad862243c0c1542447c795c9ceb30c1f38f15171fd793b9e\n",
            "------------------------------------------------------\n",
            "SHA256(ECDSA Public Key):  0fbfb036ec02df24f36aa83faa24d667f72ab57109687c8dab6f527111a9a983\n",
            "------------------------------------------------------\n",
            "RIDEMP160(SHA256(ECDSA Public Key)):  47054f006cd8a132ec60e022f7910e185bac737f\n",
            "------------------------------------------------------\n",
            "Prepend Network Byte to RIDEMP160(SHA256(ECDSA Public Key)):  0047054f006cd8a132ec60e022f7910e185bac737f\n",
            "------------------------------------------------------\n",
            "\t|___>SHA256 # 1  :  b8fdac8ad069ab9fa2f8e01c2e1a417fee3ca68a9b6a1a6c2471e93b0c485762\n",
            "\t|___>SHA256 # 2  :  2c76067703a30c795fe3a9a79ea91281344d68a79cd6cac4188e140b32cbf549\n",
            "------------------------------------------------------\n",
            "Checksum(first 4 bytes):  2c760677\n",
            "------------------------------------------------------\n",
            "Append Checksum to RIDEMP160(SHA256(ECDSA Public Key)):  0047054f006cd8a132ec60e022f7910e185bac737f2c760677\n",
            "------------------------------------------------------\n",
            "Bitcoin Address:  17UXLU9Fh1rYJmb27dvxHZbqRHGbGFT3XL\n"
          ]
        }
      ]
    },
    {
      "cell_type": "code",
      "source": [
        "!pip install bitcoin"
      ],
      "metadata": {
        "colab": {
          "base_uri": "https://localhost:8080/"
        },
        "id": "wC3RMndlFvG-",
        "outputId": "c8b16fbb-135a-4c04-cfe6-5bf5a34fa53a"
      },
      "execution_count": 20,
      "outputs": [
        {
          "output_type": "stream",
          "name": "stdout",
          "text": [
            "Looking in indexes: https://pypi.org/simple, https://us-python.pkg.dev/colab-wheels/public/simple/\n",
            "Collecting bitcoin\n",
            "  Downloading bitcoin-1.1.42.tar.gz (36 kB)\n",
            "  Preparing metadata (setup.py) ... \u001b[?25l\u001b[?25hdone\n",
            "Building wheels for collected packages: bitcoin\n",
            "  Building wheel for bitcoin (setup.py) ... \u001b[?25l\u001b[?25hdone\n",
            "  Created wheel for bitcoin: filename=bitcoin-1.1.42-py3-none-any.whl size=44424 sha256=4f363b0d9896aaadda283290b22c6fe109217e1d7d52b8d173c581f1c9f96489\n",
            "  Stored in directory: /root/.cache/pip/wheels/a3/98/a1/0d53f5b714680bb5dffc2db778c221b1f5c54bc4a3a779c8c5\n",
            "Successfully built bitcoin\n",
            "Installing collected packages: bitcoin\n",
            "Successfully installed bitcoin-1.1.42\n"
          ]
        }
      ]
    },
    {
      "cell_type": "code",
      "source": [
        "import bitcoin\n",
        "\n",
        "private_key = bitcoin.random_key()  # Generate a private key\n",
        "public_key = bitcoin.privtopub(private_key)  # Derive the public key\n",
        "bitcoin_address = bitcoin.pubtoaddr(public_key)  # Derive the Bitcoin address\n",
        "\n",
        "print(\"Private key:\", private_key)\n",
        "print(\"Public key:\", public_key)\n",
        "print(\"Bitcoin address:\", bitcoin_address)"
      ],
      "metadata": {
        "colab": {
          "base_uri": "https://localhost:8080/"
        },
        "id": "upzRORCBFttj",
        "outputId": "b90b70fa-08df-4f35-9cdf-162d59ba9694"
      },
      "execution_count": 42,
      "outputs": [
        {
          "output_type": "stream",
          "name": "stdout",
          "text": [
            "Private key: 546b9db638edee5c0705b1508e22e658f27bb81898d46a4ae100193ab531fd38\n",
            "Public key: 04dba54f0c9079889dcec1a5481c7ac0a9f5286c1c867e8af7cb20764e73a12baf6ce6b1ff00c77b8170b83a026ce66f115c2d5761083c14149ac23c5187d79dea\n",
            "Bitcoin address: 19pMaqiUc2rhjXfoHopbr2tfo9WZ4hHDGN\n"
          ]
        }
      ]
    },
    {
      "cell_type": "code",
      "source": [
        "!pip install bitcoin"
      ],
      "metadata": {
        "colab": {
          "base_uri": "https://localhost:8080/"
        },
        "id": "ZbnrBCaiB8kj",
        "outputId": "18d65c7b-6ccb-4bad-fdba-fbbfac5dbbba"
      },
      "execution_count": 1,
      "outputs": [
        {
          "output_type": "stream",
          "name": "stdout",
          "text": [
            "Looking in indexes: https://pypi.org/simple, https://us-python.pkg.dev/colab-wheels/public/simple/\n",
            "Collecting bitcoin\n",
            "  Downloading bitcoin-1.1.42.tar.gz (36 kB)\n",
            "  Preparing metadata (setup.py) ... \u001b[?25l\u001b[?25hdone\n",
            "Building wheels for collected packages: bitcoin\n",
            "  Building wheel for bitcoin (setup.py) ... \u001b[?25l\u001b[?25hdone\n",
            "  Created wheel for bitcoin: filename=bitcoin-1.1.42-py3-none-any.whl size=44424 sha256=e65b840e0d15118512ac16ebe2b10d879658abaf3a10094f12d57874b65c0ccf\n",
            "  Stored in directory: /root/.cache/pip/wheels/a3/98/a1/0d53f5b714680bb5dffc2db778c221b1f5c54bc4a3a779c8c5\n",
            "Successfully built bitcoin\n",
            "Installing collected packages: bitcoin\n",
            "Successfully installed bitcoin-1.1.42\n"
          ]
        }
      ]
    },
    {
      "cell_type": "code",
      "source": [
        "import bitcoin\n",
        "\n",
        "prefixes = ['11111','1most','1jafar','1coin','1best','1xxxx','1cash','1cool','1game','1more','1time','1look','1call','1deal','1love','1home','1holy','1host','1hope','1idol','1kiss','1life','1need','1next','1real','1safe','1vote','1true','1fact','1star','1rich','1made','1luck']  # prefixes to check for\n",
        "found_match = False\n",
        "i = 0\n",
        "while True:\n",
        "    i = i+1\n",
        "    if (i % 10000) == 0:\n",
        "      print(i)\n",
        "    private_key = bitcoin.random_key()\n",
        "    public_key = bitcoin.privtopub(private_key)\n",
        "    bitcoin_address = bitcoin.pubtoaddr(public_key)\n",
        "    bitcoin_address_lower = bitcoin.pubtoaddr(public_key).lower()  # convert to lowercase\n",
        "    for prefix in prefixes:\n",
        "        if bitcoin_address_lower.startswith(prefix):  # convert to lowercase\n",
        "            found_match = True\n",
        "            print(f\"Found a match! Prefix: {prefix}, Bitcoin address: {bitcoin_address}\")\n",
        "            print(private_key)\n",
        "            print(public_key)\n",
        "            with open('public_key111.txt', 'a') as f:  # append keys to file\n",
        "                f.write(f\"{public_key}\\n\")\n",
        "                f.write(f\"{private_key}\\n\")\n",
        "                f.write(f\"{bitcoin_address}\\n\")\n",
        "            break  # exit the for loop if a match is found"
      ],
      "metadata": {
        "colab": {
          "base_uri": "https://localhost:8080/"
        },
        "id": "E-AhIqaQUH9w",
        "outputId": "7a9b99cc-7c45-4f57-f3c6-09462c1db6bc"
      },
      "execution_count": null,
      "outputs": [
        {
          "output_type": "stream",
          "name": "stdout",
          "text": [
            "Found a match! Prefix: 1made, Bitcoin address: 1MADEus1if2DnWy78xg5aGviMeE9qtbUjR\n",
            "c5ddbc2ab36d2f0ac7aee51fef79415979fefdc20c22eac687871da66e692043\n",
            "045515b22c600809b3969a146bc57d1fed69209e7461264bdac3d08e374ebeaaae2de7a0d0857960abc96768d4733d82e31a7e8abd0c0b2264ae1635bfe8b1c7ed\n",
            "10000\n",
            "Found a match! Prefix: 1home, Bitcoin address: 1HomeCVPL5V4dEgoqrucosEW54hjxAyjEG\n",
            "f06ad67e8703b102df86e929be15b1e53a1bbf2863221b8f636d152710ec26e2\n",
            "04c7ea6a3f30c6554a15618dd666728f3252b86e7c6ffc4c5e6ab69ea018b063a6effbf884eb71ca2d00f2940e76390cab787628128ce612ef2bd9831ba7b1d3b5\n",
            "20000\n",
            "Found a match! Prefix: 1cash, Bitcoin address: 1CAshL3JeusTUyhQzTPGviuU1jznPBbsLN\n",
            "2f555ac51b7eff57ba0691f7ff8e89171bf7a426191b23e4a400541d6981baa2\n",
            "04d9f0d3ebdf7209b9c0e7136c45f59b90892eeec2cc496e6289ef4fd8e471afc1273106b8f96838be667c8a992742b8ace05378ea0e2995e39c15336bdd3a8850\n",
            "30000\n",
            "Found a match! Prefix: 1host, Bitcoin address: 1Hostaxj6UvpdqpqRi3PzKvkCLege9cqGG\n",
            "6bb8fbe275c537f2f55b7907beafc5296192733496f788e1e78a56fb9f0f69bf\n",
            "04d7473c7ed9f4197e4386ec5ec125bb7aa5f39c6a525854f7186e88bc576a16a9939d6e65e3a245082d035722d19db961e283bef5327eb753af585eaef598eb21\n",
            "40000\n",
            "50000\n",
            "60000\n",
            "70000\n",
            "80000\n",
            "Found a match! Prefix: 1need, Bitcoin address: 1NEEDMqvRBDEHkunbutjmebFC2wirNkRHe\n",
            "c80609ee7789cdfb373042c71a98cc18d30f2ecf4f584d2f6f4e62180ef9cfab\n",
            "0429192f3ce8169a6f5a882b9133f450f2614192fff74963f64e283df6524aa18ff5697e2cb82f03d413d3e683c45241b2f85f683b32478ef68327033e0b5b73ac\n",
            "90000\n",
            "100000\n",
            "Found a match! Prefix: 1luck, Bitcoin address: 1LUCKhBV9hK9oRY3FxpJM2D8rL7z7r4kit\n",
            "577b7af51181415518cc31b0469807e1822f6aed963b04aca4b700beaf29b777\n",
            "04b658238efe6a875d4186e121aa35dbca999f7210dc019a8670e737711eba4de67d638708182c38d3ca4fdc576c70baf2ebd4d522e18c204549301c5283abd3a9\n",
            "110000\n",
            "Found a match! Prefix: 1luck, Bitcoin address: 1LuckByMj5VSQjDo91eLeKx2urdGbx458N\n",
            "597ea4c15849a31ed4bcc9a0f994da5e8cedab75ba14254234b34daf66fd1b0f\n",
            "04cf4431f77492cf78e4640e94e0c80f780e1dbc5f426debfe1c0eaadd8c173c6ed0112c24ce012613c96f03ffb6f9e0e6c8b6d6e8686359a43abf16755969714b\n",
            "120000\n",
            "130000\n",
            "140000\n",
            "150000\n",
            "160000\n",
            "Found a match! Prefix: 1coin, Bitcoin address: 1CoinKqo1y1zvn1P5kwLtapiiDjMLw68Q3\n",
            "f342db891b2b5081815e121dc26233ee411d5ec62217ba79a4749e198259f277\n",
            "04728205f2f8b2266b0e8d11b7db055e9f2b12aab0e103746f243fccba3f371bf8c7ac606e910776e75aff7fbf8bf8d3f44e3b6f862cd22fb8f403d9887f4d66bb\n",
            "170000\n",
            "180000\n"
          ]
        }
      ]
    }
  ],
  "metadata": {
    "colab": {
      "provenance": [],
      "authorship_tag": "ABX9TyP8XNdixGWgZIQyc4YvX9Jc",
      "include_colab_link": true
    },
    "kernelspec": {
      "display_name": "Python 3",
      "name": "python3"
    },
    "language_info": {
      "name": "python"
    }
  },
  "nbformat": 4,
  "nbformat_minor": 0
}